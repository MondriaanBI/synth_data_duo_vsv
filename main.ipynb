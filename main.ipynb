{
 "cells": [
  {
   "cell_type": "markdown",
   "id": "f7f5e130-6727-4200-a44a-e1cafb0cc991",
   "metadata": {},
   "source": [
    "# Synthetic data DUO VSV"
   ]
  },
  {
   "cell_type": "raw",
   "id": "69396311-3950-43b4-8d53-cbf6b131df3c",
   "metadata": {},
   "source": [
    "CTGAN_trained = CTGANSynthesizer.load(filepath='ctgan_a05.pkl')\n",
    "test = CTGAN_trained.sample(num_rows=10)"
   ]
  },
  {
   "cell_type": "code",
   "execution_count": 52,
   "id": "cef6bfa7-2bbe-467d-a28c-45e49a37d088",
   "metadata": {},
   "outputs": [],
   "source": [
    "## Load packages \n",
    "import pandas as pd\n",
    "import numpy as np\n",
    "import random\n",
    "import sdv\n",
    "import sdv.single_table\n",
    "from sdv.metadata import SingleTableMetadata\n",
    "from sdv.single_table import CTGANSynthesizer\n",
    "from sdv.evaluation.single_table import evaluate_quality, run_diagnostic, get_column_plot\n",
    "\n",
    "import warnings\n",
    "warnings.filterwarnings(\"ignore\")\n",
    "pd.set_option('display.max_columns', None) "
   ]
  },
  {
   "cell_type": "code",
   "execution_count": 2,
   "id": "b27b0850-c56b-48fa-ab0b-7e2c3a5490ed",
   "metadata": {},
   "outputs": [],
   "source": [
    "# A04 files - VSV dataset. Alle studenten in A04 zitten ook in het A05 bestand van dezelfde maand\n",
    "# Deze rapportage bevat alle jongeren uit de startpopulatie die in de rapportagemaand geen relevante inschrijving meer hebben en mogelijk een VSV-er zouden kunnen zijn\n",
    "# Kan dezelfde studenten per maand bevatten, maar dit hoeft niet: een student kan zich immers elders inschrijven\n",
    "a04_11_22 = pd.read_csv('data/raw/202211A04I27GZ.csv', sep = ';')\n",
    "a04_12_22 = pd.read_csv('data/raw/202212A04I27GZ.csv', sep = ';')\n",
    "a04_01_23 = pd.read_csv('data/raw/202301A04I27GZ.csv', sep = ';')\n",
    "a04_02_23 = pd.read_csv('data/raw/202302A04I27GZ.csv', sep = ';')\n",
    "a04_03_23 = pd.read_csv('data/raw/202303A04I27GZ.csv', sep = ';')\n",
    "a04_04_23 = pd.read_csv('data/raw/202304A04I27GZ.csv', sep = ';')\n",
    "a04_05_23 = pd.read_csv('data/raw/202305A04I27GZ.csv', sep = ';')\n",
    "a04_06_23 = pd.read_csv('data/raw/202306A04I27GZ.csv', sep = ';')\n",
    "a04_07_23 = pd.read_csv('data/raw/202307A04I27GZ.csv', sep = ';')\n",
    "a04_08_23 = pd.read_csv('data/raw/202308A04I27GZ.csv', sep = ';')\n",
    "a04_09_23 = pd.read_csv('data/raw/202309A04I27GZ.csv', sep = ';')\n",
    "a04_10_23 = pd.read_csv('data/raw/202310A04I27GZ.csv', sep = ';')\n",
    "\n",
    "# A14 files - VSV dataset \n",
    "# De A14 wordt aangemaakt over de maanden oktober t/m december na het rapportagejaar en bevat de mutaties die nog betrekking hebben op dit voorgaande rapportagejaar. \n",
    "# De A14 is verder identiek aan de A04. Alle VSV'ers uit A14 bestanden zitten ook in het bestand van a05_10_23. Niet per se in de oudere bestanden. \n",
    "a14_11_23 = pd.read_csv('data/raw/202311A14I27GZ.csv', sep = ';')\n",
    "a14_12_23 = pd.read_csv('data/raw/202312A14I27GZ.csv', sep = ';')\n",
    "a14_01_24 = pd.read_csv('data/raw/202401A14I27GZ.csv', sep = ';')"
   ]
  },
  {
   "cell_type": "code",
   "execution_count": 3,
   "id": "706ac097-08bd-4e62-8ed4-f935ac7c228f",
   "metadata": {},
   "outputs": [],
   "source": [
    "# A05 files - starter dataset\n",
    "# Deze rapportage bevat alle jongeren die aan het begin van het rapportagejaar (1 oktober) een relevante inschrijving hebben en die bij uitval mogelijk een VSV-er zouden kunnen zijn. \n",
    "a05_11_22 = pd.read_csv('data/raw/202211A05I27GZ.csv', sep = ';')\n",
    "a05_12_22 = pd.read_csv('data/raw/202212A05I27GZ.csv', sep = ';')\n",
    "a05_01_23 = pd.read_csv('data/raw/202301A05I27GZ.csv', sep = ';')\n",
    "a05_02_23 = pd.read_csv('data/raw/202302A05I27GZ.csv', sep = ';')\n",
    "a05_03_23 = pd.read_csv('data/raw/202303A05I27GZ.csv', sep = ';')\n",
    "a05_04_23 = pd.read_csv('data/raw/202304A05I27GZ.csv', sep = ';')\n",
    "a05_05_23 = pd.read_csv('data/raw/202305A05I27GZ.csv', sep = ';')\n",
    "a05_06_23 = pd.read_csv('data/raw/202306A05I27GZ.csv', sep = ';')\n",
    "a05_07_23 = pd.read_csv('data/raw/202307A05I27GZ.csv', sep = ';')\n",
    "a05_08_23 = pd.read_csv('data/raw/202308A05I27GZ.csv', sep = ';')\n",
    "a05_09_23 = pd.read_csv('data/raw/202309A05I27GZ.csv', sep = ';')\n",
    "a05_10_23 = pd.read_csv('data/raw/202310A05I27GZ.csv', sep = ';')"
   ]
  },
  {
   "cell_type": "code",
   "execution_count": 4,
   "id": "212ebc11-eb42-4d2b-a7e0-6cbd7c92fb5b",
   "metadata": {},
   "outputs": [],
   "source": [
    "# NSPR and NenR files\n",
    "# Voorlopig & definitief: rapportage startpopulatie (nsrp) - starter dataset\n",
    "# NenR voorlopig & definitief: bestaat uit de VSV'ers van NSRP\n",
    "\n",
    "# De rapportage Startpopulatie (NRSP) toont de gegevens van leerlingen die aan het begin van het rapportagejaar staan ingeschreven in het Register Onderwijsdeelnemers (ROD) \n",
    "# én die bij uitval voldoen aan de definitie van voortijdig schoolverlater. \n",
    "# Het rapportagejaar start op 1 oktober van het huidige schooljaar en loopt tot 30 september van het volgende schooljaar.\n",
    "# In februari/maart verschijnt de rapportage met voorlopige cijfers. In oktober/november plaatsen we de rapportage met definitieve cijfers.\n",
    "nrsp_23_v = pd.read_csv('data/raw/NRSP2023VI27GZ.csv', sep = ';')\n",
    "nrsp_23_d = pd.read_csv('data/raw/NRSP2023DI27GZ.csv', sep = ';')\n",
    "\n",
    "# Voorlopig & definitief: naam en rugnummers- VSV dataset\n",
    "# Met de rapportage Namen en rugnummers (NenR) kunt u controleren wie voortijdig schoolverlaters zijn binnen uw school, gemeente of regio.\n",
    "# In februari/maart verschijnt de rapportage op basis van de voorlopige cijfers. In oktober/november plaatsen we de rapportage op basis van de definitieve cijfers.\n",
    "# De rapportage Namen en rugnummers hoort bij de rapportage Startpopulatie.\n",
    "nenr_23_v = pd.read_csv('data/raw/NenR2023VI27GZ.csv', sep = ';')\n",
    "nenr_23_d = pd.read_csv('data/raw/NenR2023DI27GZ.csv', sep = ';')"
   ]
  },
  {
   "cell_type": "markdown",
   "id": "1d17277d-b2ac-4b78-9b48-f581a1a5ac7a",
   "metadata": {},
   "source": [
    "# Data Exploration"
   ]
  },
  {
   "cell_type": "code",
   "execution_count": null,
   "id": "c7cc3d6d-84a2-4972-a686-0df7d20e2353",
   "metadata": {},
   "outputs": [],
   "source": [
    "display(a05_11_22.head(1))"
   ]
  },
  {
   "cell_type": "code",
   "execution_count": null,
   "id": "da7da81b-1191-4306-8700-41aa92c29a67",
   "metadata": {},
   "outputs": [],
   "source": [
    "display(a04_11_22.head(1))"
   ]
  },
  {
   "cell_type": "code",
   "execution_count": null,
   "id": "94c26a01-7ed6-4616-a614-114fab484bde",
   "metadata": {},
   "outputs": [],
   "source": [
    "display(a14_11_23.head(1))"
   ]
  },
  {
   "cell_type": "code",
   "execution_count": null,
   "id": "2c056817-997e-4095-ac8a-d58303b7d9f1",
   "metadata": {},
   "outputs": [],
   "source": [
    "display(a04_11_22.head(1))"
   ]
  },
  {
   "cell_type": "code",
   "execution_count": null,
   "id": "8c869f4b-5e9d-4be0-b459-cb5a784949ec",
   "metadata": {},
   "outputs": [],
   "source": [
    "display(nrsp_23_v.head(1))"
   ]
  },
  {
   "cell_type": "code",
   "execution_count": null,
   "id": "c040f140-8305-4c9e-b099-26c62e6c8922",
   "metadata": {},
   "outputs": [],
   "source": [
    "display(nenr_23_v.head(1))"
   ]
  },
  {
   "cell_type": "code",
   "execution_count": 237,
   "id": "e2772430-0b79-4344-bdaa-3a5855591d81",
   "metadata": {},
   "outputs": [
    {
     "name": "stdout",
     "output_type": "stream",
     "text": [
      "Length A04 files\n",
      "33\n",
      "104\n",
      "201\n",
      "402\n",
      "481\n",
      "597\n",
      "714\n",
      "809\n",
      "955\n",
      "1145\n",
      "1087\n",
      "1239\n",
      "\n",
      "Length A14 files\n",
      "1276\n",
      "1288\n",
      "1297\n"
     ]
    }
   ],
   "source": [
    "print ('Length A04 files')\n",
    "print(len(a04_11_22))\n",
    "print(len(a04_12_22))\n",
    "print(len(a04_01_23))\n",
    "print(len(a04_02_23))\n",
    "print(len(a04_03_23))\n",
    "print(len(a04_04_23))\n",
    "print(len(a04_05_23))\n",
    "print(len(a04_06_23))\n",
    "print(len(a04_07_23))\n",
    "print(len(a04_08_23))\n",
    "print(len(a04_09_23))\n",
    "print(len(a04_10_23))\n",
    "print ('')\n",
    "print ('Length A14 files')\n",
    "print(len(a14_11_23))\n",
    "print(len(a14_12_23))\n",
    "print(len(a14_01_24))"
   ]
  },
  {
   "cell_type": "code",
   "execution_count": 12,
   "id": "93a0d635-81b9-4b06-bc61-43252583a038",
   "metadata": {},
   "outputs": [
    {
     "name": "stdout",
     "output_type": "stream",
     "text": [
      "Length A05 files\n",
      "15558\n",
      "15532\n",
      "15520\n",
      "15517\n",
      "15514\n",
      "15513\n",
      "15512\n",
      "15512\n",
      "15511\n",
      "15510\n",
      "15510\n",
      "15509\n"
     ]
    }
   ],
   "source": [
    "print ('Length A05 files')\n",
    "print (len(a05_11_22))\n",
    "print (len(a05_12_22))\n",
    "print (len(a05_01_23))\n",
    "print (len(a05_02_23))\n",
    "print (len(a05_03_23))\n",
    "print (len(a05_04_23))\n",
    "print (len(a05_05_23))\n",
    "print (len(a05_06_23))\n",
    "print (len(a05_07_23))\n",
    "print (len(a05_08_23))\n",
    "print (len(a05_09_23))\n",
    "print (len(a05_10_23))"
   ]
  },
  {
   "cell_type": "code",
   "execution_count": 13,
   "id": "aa128ab1-84e7-4052-a508-6d6bda1f8cc8",
   "metadata": {},
   "outputs": [
    {
     "name": "stdout",
     "output_type": "stream",
     "text": [
      "Length NSRP files\n",
      "14460\n",
      "14439\n",
      "\n",
      "Length NenR files\n",
      "1103\n",
      "1078\n"
     ]
    }
   ],
   "source": [
    "print ('Length NSRP files')\n",
    "print (len(nrsp_23_v))\n",
    "print (len(nrsp_23_d))\n",
    "print ('')\n",
    "print ('Length NenR files')\n",
    "print (len(nenr_23_v))\n",
    "print (len(nenr_23_d))"
   ]
  },
  {
   "cell_type": "raw",
   "id": "fa74e984-8ae8-4e06-9e25-aa7e75cfb378",
   "metadata": {},
   "source": [
    "# Check which students are in which dataset\n",
    "result = a04_12_22['PERSOONSGEBONDENNUMMER'].isin(a04_01_23['PERSOONSGEBONDENNUMMER'])\n",
    "\n",
    "print(result.all())"
   ]
  },
  {
   "cell_type": "markdown",
   "id": "b569e9f6-2196-4c9b-9435-20fafb429543",
   "metadata": {},
   "source": [
    "# CTGANSynthesizer for synthetic data"
   ]
  },
  {
   "cell_type": "code",
   "execution_count": null,
   "id": "424f660f-f0ae-4874-8697-7697bc79730c",
   "metadata": {},
   "outputs": [],
   "source": [
    "# Subset of 5000 random rows from the A05 file to train the CTGANSynthesizer on. On a sample size that is too large the CTGANSynthesizer can cause crashes or BSoDs \n",
    "subset_a05 = a05_11_22.sample(n=5000)"
   ]
  },
  {
   "cell_type": "code",
   "execution_count": null,
   "id": "c06a17fc-308b-40da-b326-cfbbdf744394",
   "metadata": {},
   "outputs": [],
   "source": [
    "# Create metadata and specify column types\n",
    "metadata = SingleTableMetadata()\n",
    "metadata.detect_from_dataframe(subset_a05)\n",
    "\n",
    "# Manually update the metadata for the specific column\n",
    "#metadata.update_column(column_name='BSN_ONDERWIJSNR', sdtype='id')\n",
    "#metadata.update_column(column_name='ILT/CREBO', sdtype='id')\n",
    "\n",
    "# Create model with updated metadata\n",
    "CTGAN = CTGANSynthesizer(\n",
    "    metadata,  # Use metadata from train set\n",
    "    enforce_rounding=True,  # Use same decimals as original dataset\n",
    "    enforce_min_max_values=True,  # Min and max value per column are the same as in original dataset\n",
    "    epochs=50, # Currently 50 epochs on a subset of 5000 rows \n",
    "    batch_size=500,\n",
    "    generator_lr=0.0002,\n",
    "    verbose=True\n",
    ")\n",
    "\n",
    "CTGAN.fit(subset_a05)"
   ]
  },
  {
   "cell_type": "code",
   "execution_count": 174,
   "id": "5c711a10-d32e-4a7d-8cd8-236cfbec1bb4",
   "metadata": {},
   "outputs": [],
   "source": [
    "# Create synthetic dataset\n",
    "synth_a05_11_22 = CTGAN.sample(num_rows=15558)\n",
    "\n",
    "# Save output file\n",
    "synth_a05_11_22.to_csv('data/output/synth_a05_11_22.csv', sep=';', index=False) "
   ]
  },
  {
   "cell_type": "raw",
   "id": "95529191-2c52-4a24-9c9d-c0b2a06daf7b",
   "metadata": {},
   "source": [
    "# Save synthesiser model \n",
    "CTGAN.save(filepath='ctgan_a05_1.pkl')"
   ]
  },
  {
   "cell_type": "raw",
   "id": "b10bded7-5645-4549-bc5d-d9e553202e06",
   "metadata": {},
   "source": [
    "# Load synthesiser model \n",
    "CTGAN = CTGANSynthesizer.load(filepath='ctgan_a05_1.pkl')"
   ]
  },
  {
   "cell_type": "code",
   "execution_count": null,
   "id": "12e1310b-cfca-4df6-ba8b-674abe1aa54f",
   "metadata": {},
   "outputs": [],
   "source": []
  },
  {
   "cell_type": "markdown",
   "id": "516ca5ce-882e-43a6-84bd-11f6bdc60d1b",
   "metadata": {},
   "source": [
    "# Feature engineering: A05 dataset"
   ]
  },
  {
   "cell_type": "code",
   "execution_count": 65,
   "id": "42a02678-8206-4a7d-aaf4-7360066131c3",
   "metadata": {},
   "outputs": [],
   "source": [
    "# Load synthetic datafile\n",
    "synthetic_a05_11_22 = pd.read_csv('data/output/synth_a05_11_22.csv', sep = ';')"
   ]
  },
  {
   "cell_type": "code",
   "execution_count": 114,
   "id": "3e2c7a48-c411-4984-8b4d-9b5c99747c14",
   "metadata": {},
   "outputs": [],
   "source": [
    "# Store the values from the POSTCODE and ONDERWIJSLOCATIE_POSTCODE columns of a05_11_22, shuffle the zip codes randomly and then insert them\n",
    "postcodes = a05_11_22['POSTCODE'].tolist()\n",
    "np.random.shuffle(postcodes)\n",
    "synthetic_a05_11_22['POSTCODE'] = postcodes\n",
    "\n",
    "postcodes_loc = a05_11_22['ONDERWIJSLOCATIE_POSTCODE'].tolist()\n",
    "np.random.shuffle(postcodes_loc)\n",
    "synthetic_a05_11_22['ONDERWIJSLOCATIE_POSTCODE'] = postcodes_loc"
   ]
  },
  {
   "cell_type": "code",
   "execution_count": 120,
   "id": "25e11748-d790-411d-b4a0-41482ff57b93",
   "metadata": {},
   "outputs": [],
   "source": [
    "# Function replace the random amount of digits of the 'BSN_ONDERWIJSNR' column with a random 9-digit number\n",
    "def generate_unique_random_numbers(n):\n",
    "    numbers = set()\n",
    "    while len(numbers) < n:\n",
    "        number = random.randint(100000000, 999999999)\n",
    "        numbers.add(number)\n",
    "    return list(numbers)\n",
    "\n",
    "unique_random_numbers = generate_unique_random_numbers(len(synthetic_a05_11_22))\n",
    "synthetic_a05_11_22['BSN_ONDERWIJSNR'] = unique_random_numbers"
   ]
  },
  {
   "cell_type": "code",
   "execution_count": 122,
   "id": "108ab620-3971-4097-9f74-cfa36a8cc23e",
   "metadata": {},
   "outputs": [],
   "source": [
    "# List of the top 10 unisex names in the Netherlands\n",
    "random_names = ['Noa', 'Luca', 'Sem', 'Sam', 'Isa', 'Nova', 'Bo', 'Jip', 'Lou', 'Charlie']\n",
    "\n",
    "# Function to replace NaN values with top unisex names at random\n",
    "def replace_nan_with_random_name(df, column_name, random_names):\n",
    "    df[column_name] = df[column_name].apply(lambda x: random.choice(random_names) if pd.isna(x) else x)\n",
    "    return df\n",
    "\n",
    "synthetic_a05_11_22 = replace_nan_with_random_name(synthetic_a05_11_22, 'VOORNAMEN', random_names)"
   ]
  },
  {
   "cell_type": "code",
   "execution_count": 152,
   "id": "d5505dba-05a0-4d69-9c6c-85ea788a467e",
   "metadata": {},
   "outputs": [],
   "source": [
    "# Create synthetic A05 files based on the synthetic_a05_11_22 file while adjusting the 'RAPPORTAGE_MAAND' column for each month\n",
    "synthetic_a05_12_22 = synthetic_a05_11_22.copy()\n",
    "synthetic_a05_12_22['RAPPORTAGE_MAAND'] = 202211\n",
    "\n",
    "synthetic_a05_01_23 = synthetic_a05_11_22.copy()\n",
    "synthetic_a05_01_23['RAPPORTAGE_MAAND'] = 202212\n",
    "\n",
    "synthetic_a05_02_23 = synthetic_a05_11_22.copy()\n",
    "synthetic_a05_02_23['RAPPORTAGE_MAAND'] = 202301\n",
    "\n",
    "synthetic_a05_03_23 = synthetic_a05_11_22.copy()\n",
    "synthetic_a05_03_23['RAPPORTAGE_MAAND'] = 202302\n",
    "\n",
    "synthetic_a05_04_23 = synthetic_a05_11_22.copy()\n",
    "synthetic_a05_04_23['RAPPORTAGE_MAAND'] = 202303\n",
    "\n",
    "synthetic_a05_05_23 = synthetic_a05_11_22.copy()\n",
    "synthetic_a05_05_23['RAPPORTAGE_MAAND'] = 202304\n",
    "\n",
    "synthetic_a05_06_23 = synthetic_a05_11_22.copy()\n",
    "synthetic_a05_06_23['RAPPORTAGE_MAAND'] = 202305\n",
    "\n",
    "synthetic_a05_07_23 = synthetic_a05_11_22.copy()\n",
    "synthetic_a05_07_23['RAPPORTAGE_MAAND'] = 202306\n",
    "\n",
    "synthetic_a05_08_23 = synthetic_a05_11_22.copy()\n",
    "synthetic_a05_08_23['RAPPORTAGE_MAAND'] = 202307\n",
    "\n",
    "synthetic_a05_09_23 = synthetic_a05_11_22.copy()\n",
    "synthetic_a05_09_23['RAPPORTAGE_MAAND'] = 202308\n",
    "\n",
    "synthetic_a05_10_23 = synthetic_a05_11_22.copy()\n",
    "synthetic_a05_10_23['RAPPORTAGE_MAAND'] = 202309"
   ]
  },
  {
   "cell_type": "code",
   "execution_count": 154,
   "id": "024d8fcd-d460-4769-99b2-b0b856dac913",
   "metadata": {},
   "outputs": [],
   "source": [
    "# Save the A05 synthetic datasets\n",
    "synthetic_a05_11_22.to_csv('data/output/202211A05I27GZ.csv', sep=';', index=False) \n",
    "synthetic_a05_12_22.to_csv('data/output/202212A05I27GZ.csv', sep=';', index=False) \n",
    "synthetic_a05_01_23.to_csv('data/output/202301A05I27GZ.csv', sep=';', index=False) \n",
    "synthetic_a05_02_23.to_csv('data/output/202302A05I27GZ.csv', sep=';', index=False) \n",
    "synthetic_a05_03_23.to_csv('data/output/202303A05I27GZ.csv', sep=';', index=False) \n",
    "synthetic_a05_04_23.to_csv('data/output/202304A05I27GZ.csv', sep=';', index=False)\n",
    "synthetic_a05_05_23.to_csv('data/output/202305A05I27GZ.csv', sep=';', index=False) \n",
    "synthetic_a05_06_23.to_csv('data/output/202306A05I27GZ.csv', sep=';', index=False) \n",
    "synthetic_a05_07_23.to_csv('data/output/202307A05I27GZ.csv', sep=';', index=False) \n",
    "synthetic_a05_08_23.to_csv('data/output/202308A05I27GZ.csv', sep=';', index=False) \n",
    "synthetic_a05_09_23.to_csv('data/output/202309A05I27GZ.csv', sep=';', index=False) \n",
    "synthetic_a05_10_23.to_csv('data/output/202310A05I27GZ.csv', sep=';', index=False) "
   ]
  },
  {
   "cell_type": "markdown",
   "id": "7ceff217-44ea-4e3e-84fc-4f53b1bd316e",
   "metadata": {},
   "source": [
    "# Data Conversion: A04 & A14 datasets"
   ]
  },
  {
   "cell_type": "code",
   "execution_count": 155,
   "id": "8e184338-5fa7-4947-8563-ef7f5eccaad8",
   "metadata": {},
   "outputs": [],
   "source": [
    "# Function to convert A05 dataframe into an A04 dataframe\n",
    "def create_new_month (number, dataset_input): \n",
    "    dataset = dataset_input.sample(n=number, replace=True)\n",
    "    synthetic_dataset = pd.DataFrame({\n",
    "        \"BRIN_NR\": dataset[\"#BRIN\"],\n",
    "        \"NAAM_INST\": dataset[\"NAAM_INSTELLING\"],\n",
    "        \"RAPPORTAGEMAAND\": dataset[\"RAPPORTAGE_MAAND\"],\n",
    "        \"PERSOONSGEBONDENNUMMER\": dataset[\"BSN_ONDERWIJSNR\"],\n",
    "        \"ACHTERNAAM\": dataset[\"ACHTERNAAM\"],\n",
    "        \"VOORVOEGSEL\": dataset[\"VOORVOEGSEL\"],\n",
    "        \"ALLE_VOORNAMEN\": dataset[\"VOORNAMEN\"],\n",
    "        \"WOONGEMEENTE\": dataset[\"WOONGEMEENTE\"],\n",
    "        \"GEBOORTEDATUM\": dataset[\"GEBOORTEDATUM\"],\n",
    "        \"ONDERWIJSCODE\": dataset[\"ILT/CREBO\"],\n",
    "        \"ONDERWIJSNAAM\": dataset[\"ILT/CREBO_OMS\"],\n",
    "        \"LEERWEG\": dataset[\"LEERWEG\"],\n",
    "        \"DATUM_UITSCHRIJVING\": np.nan, #\n",
    "        \"MELDING_VERZUIM_WETTELIJK\": 'J', # Might need adjustment  \n",
    "        \"REDEN\": np.nan, #\n",
    "        \"BRIN\": dataset[\"BRIN_NR\"],\n",
    "        \"NAAM_INSTELLING\": dataset[\"NAAM_INST\"],\n",
    "        \"ONDERWIJSAANBIEDERCODE\": dataset[\"ONDERWIJSAANBIEDERCODE\"],\n",
    "        \"NAAM_ONDERWIJSAANBIEDER\": dataset[\"ONDERWIJSAANBIEDER_NAAM\"],\n",
    "        \"MELDING_VERZUIM_NIET_WETTELIJK\": 'N', # Might need adjustment   \n",
    "        \"GEMEENTECODE\": dataset[\"GEMCODE\"],\n",
    "        \"RMC_REGIO\": dataset[\"RMC_REGIO\"],\n",
    "        \"REDEN_UITSTROOM\": np.nan, #\n",
    "        \"LOCATIECODE\": dataset[\"LOCATIECODE\"],\n",
    "        \"ONDERWIJSLOCATIECODE\": dataset[\"ONDERWIJSLOCATIECODE\"],\n",
    "        \"POSTCODE_ONDERWIJSLOCATIE\": dataset[\"ONDERWIJSLOCATIE_POSTCODE\"],\n",
    "        \"HUISNUMMER_ONDERWIJSLOCATIE\": dataset[\"ONDERWIJSLOCATIE_HUISNUMMER\"],\n",
    "        \"BRIN_VOLGNUMMER\": dataset[\"BRIN_VOLGNR\"],\n",
    "        \"NIVEAU\": dataset[\"NIVEAU\"],\n",
    "        \"INSCHRIJVINGSVOLGNUMMER\": dataset[\"INSCHR_VLGNR\"],\n",
    "        \"STRAAT\": dataset[\"STRAAT\"],\n",
    "        \"HUISNUMMER\": dataset[\"HUISNUMMER\"],\n",
    "        \"HUISLETTER\": dataset[\"HUISLETTER\"],\n",
    "        \"HUISNUMMER_TOEVOEGING\": dataset[\"HUISNR_TOEV\"],\n",
    "        \"HUISNUMMER_AANDUIDING\": dataset[\"HUISNR_AAND\"],\n",
    "        \"ADRES_LOCATIE\": dataset[\"ADRES_LOCATIE\"],\n",
    "        \"POSTCODE\": dataset[\"POSTCODE\"],\n",
    "        \"WOONPLAATS\": dataset[\"WOONPLAATS\"],\n",
    "        \"VANAF_WANNEER\": dataset[\"RAPPORTAGE_MAAND\"]\n",
    "})\n",
    "    return synthetic_dataset"
   ]
  },
  {
   "cell_type": "code",
   "execution_count": 156,
   "id": "4cc2bfe3-0405-4da0-8178-7d48cc40088c",
   "metadata": {},
   "outputs": [],
   "source": [
    "# Apply create_new_month on all the A05 dataframes. Number of samples based on actual A04 data \n",
    "temp_a04_11_22 = create_new_month (30, synthetic_a05_11_22)\n",
    "temp_a04_12_22 = create_new_month (70, synthetic_a05_12_22)\n",
    "temp_a04_01_23 = create_new_month (100, synthetic_a05_01_23)\n",
    "temp_a04_02_23 = create_new_month (200, synthetic_a05_02_23)\n",
    "temp_a04_03_23 = create_new_month (100, synthetic_a05_03_23)\n",
    "temp_a04_04_23 = create_new_month (100, synthetic_a05_04_23)\n",
    "temp_a04_05_23 = create_new_month (100, synthetic_a05_05_23)\n",
    "temp_a04_06_23 = create_new_month (100, synthetic_a05_06_23)\n",
    "temp_a04_07_23 = create_new_month (100, synthetic_a05_07_23)\n",
    "temp_a04_08_23 = create_new_month (100, synthetic_a05_08_23)\n",
    "temp_a04_09_23 = create_new_month (100, synthetic_a05_09_23)\n",
    "temp_a04_10_23 = create_new_month (200, synthetic_a05_10_23)\n",
    "\n",
    "temp_a14_11_23 = create_new_month (10, synthetic_a05_10_23)\n",
    "temp_a14_12_23 = create_new_month (10, synthetic_a05_10_23)\n",
    "temp_a14_01_24 = create_new_month (10, synthetic_a05_10_23)"
   ]
  },
  {
   "cell_type": "code",
   "execution_count": 157,
   "id": "c8772c21-dde5-43c6-b09d-8cff4298e6ef",
   "metadata": {},
   "outputs": [
    {
     "name": "stdout",
     "output_type": "stream",
     "text": [
      "synthetic_a04_11_22\n",
      "synthetic_a04_12_22\n",
      "synthetic_a04_01_23\n",
      "synthetic_a04_02_23\n",
      "synthetic_a04_03_23\n",
      "synthetic_a04_04_23\n",
      "synthetic_a04_05_23\n",
      "synthetic_a04_06_23\n",
      "synthetic_a04_07_23\n",
      "synthetic_a04_08_23\n",
      "synthetic_a04_09_23\n",
      "synthetic_a04_10_23\n",
      "synthetic_a14_11_23\n",
      "synthetic_a14_12_23\n",
      "synthetic_a14_01_24\n"
     ]
    }
   ],
   "source": [
    "# Concatenate each month with the prior months and remove duplicate students based on the 'PERSOONSGEBONDENNUMMER' column  \n",
    "# List of dataframes\n",
    "dataframes = [temp_a04_11_22, temp_a04_12_22, temp_a04_01_23, temp_a04_02_23, temp_a04_03_23, temp_a04_04_23, temp_a04_05_23, temp_a04_06_23, temp_a04_07_23, temp_a04_08_23, temp_a04_09_23, \n",
    "              temp_a04_10_23, temp_a14_11_23, temp_a14_12_23, temp_a14_01_24]\n",
    "\n",
    "# List of names for the synthetic dataframes\n",
    "synthetic_names = [\"synthetic_a04_11_22\", \"synthetic_a04_12_22\", \"synthetic_a04_01_23\", \"synthetic_a04_02_23\", \"synthetic_a04_03_23\", \"synthetic_a04_04_23\", \"synthetic_a04_05_23\", \"synthetic_a04_06_23\", \n",
    "                   \"synthetic_a04_07_23\", \"synthetic_a04_08_23\", \"synthetic_a04_09_23\", \"synthetic_a04_10_23\", \"synthetic_a14_11_23\", \"synthetic_a14_12_23\", \"synthetic_a14_01_24\"]\n",
    "\n",
    "\n",
    "# Initialize the first synthetic dataframe with the first dataframe\n",
    "globals()[synthetic_names[0]] = dataframes[0]\n",
    "\n",
    "# Loop through the rest of the dataframes and append them to the previous synthetic dataframe\n",
    "for i in range(1, len(dataframes)):\n",
    "    globals()[synthetic_names[i]] = pd.concat([globals()[synthetic_names[i-1]], dataframes[i]]).drop_duplicates(subset='PERSOONSGEBONDENNUMMER')\n",
    "\n",
    "# Check newly created dataframes  \n",
    "for name in synthetic_names: print(name)"
   ]
  },
  {
   "cell_type": "code",
   "execution_count": 158,
   "id": "5f18dccd-2885-433d-bf85-83980c281442",
   "metadata": {},
   "outputs": [],
   "source": [
    "# Save the A04 and A14 synthetic datasets\n",
    "synthetic_a04_11_22.to_csv('data/output/202211A04I27GZ.csv', sep=';', index=False) \n",
    "synthetic_a04_12_22.to_csv('data/output/202212A04I27GZ.csv', sep=';', index=False) \n",
    "synthetic_a04_01_23.to_csv('data/output/202301A04I27GZ.csv', sep=';', index=False) \n",
    "synthetic_a04_02_23.to_csv('data/output/202302A04I27GZ.csv', sep=';', index=False) \n",
    "synthetic_a04_03_23.to_csv('data/output/202303A04I27GZ.csv', sep=';', index=False) \n",
    "synthetic_a04_04_23.to_csv('data/output/202304A04I27GZ.csv', sep=';', index=False)\n",
    "synthetic_a04_05_23.to_csv('data/output/202305A04I27GZ.csv', sep=';', index=False) \n",
    "synthetic_a04_06_23.to_csv('data/output/202306A04I27GZ.csv', sep=';', index=False) \n",
    "synthetic_a04_07_23.to_csv('data/output/202307A04I27GZ.csv', sep=';', index=False) \n",
    "synthetic_a04_08_23.to_csv('data/output/202308A04I27GZ.csv', sep=';', index=False) \n",
    "synthetic_a04_09_23.to_csv('data/output/202309A04I27GZ.csv', sep=';', index=False) \n",
    "synthetic_a04_10_23.to_csv('data/output/202310A04I27GZ.csv', sep=';', index=False) \n",
    "\n",
    "synthetic_a14_11_23.to_csv('data/output/202311A14I27GZ.csv', sep=';', index=False) \n",
    "synthetic_a14_12_23.to_csv('data/output/202312A14I27GZ.csv', sep=';', index=False) \n",
    "synthetic_a14_01_24.to_csv('data/output/202401A14I27GZ.csv', sep=';', index=False) "
   ]
  },
  {
   "cell_type": "raw",
   "id": "0277d3a8-ae17-47ff-af0f-835714b1fad8",
   "metadata": {},
   "source": [
    "# Check for duplicates\n",
    "synthetic_a04_10_23['PERSOONSGEBONDENNUMMER'].value_counts()"
   ]
  },
  {
   "cell_type": "markdown",
   "id": "09d9232f-f5f3-4d9a-afdb-fa61e5fdb9d4",
   "metadata": {},
   "source": [
    "# Data Conversion: NSRP & NenR datasets"
   ]
  },
  {
   "cell_type": "code",
   "execution_count": 162,
   "id": "a753b8de-e5af-431d-9436-4e01804c0d94",
   "metadata": {},
   "outputs": [],
   "source": [
    "# Function to convert A05 dataframe into an NSRP dataframe\n",
    "def create_new_dataframe(dataset):\n",
    "    new_df = pd.DataFrame({\n",
    "        '#BURGERSERVICENUMMER': dataset['BSN_ONDERWIJSNR'],\n",
    "        'ONDERWIJSNUMMER': dataset['BSN_ONDERWIJSNR'],\n",
    "        'GEBOORTEDATUM': dataset['GEBOORTEDATUM'],\n",
    "        'GESLACHT': np.random.choice(['M', 'V'], size=len(dataset)), \n",
    "        'ACHTERNAAM': dataset['ACHTERNAAM'],\n",
    "        'VOORVOEGSEL': dataset['VOORVOEGSEL'],\n",
    "        'VOORNAMEN': dataset['VOORNAMEN'],\n",
    "        'POSTCODE_CIJFERS': dataset['POSTCODE'].str.slice(0, 4),\n",
    "        'RMC_REGIO': dataset['RMC_REGIO'],\n",
    "        'RMC_REGIO_NAAM': pd.NA, #\n",
    "        'GEMCODE': dataset['GEMCODE'],\n",
    "        'GEMEENTENAAM': dataset['WOONGEMEENTE'],\n",
    "        'BRIN': dataset['#BRIN'],\n",
    "        'BRIN_VOLGNR': dataset['BRIN_NR'],\n",
    "        'BRIN_VEST_NAAM': pd.NA, #\n",
    "        'NIVEAU': dataset['NIVEAU'],\n",
    "        'ONDERWIJSSOORT': dataset['LEERWEG'], # Should be combination of leerweg and niveau\n",
    "        'CREBO': dataset['ILT/CREBO'],\n",
    "        'CREBO_OMSCHRIJVING': dataset['ILT/CREBO_OMS'],\n",
    "        'ONDERWIJSAANBIEDER_CODE': dataset['ONDERWIJSAANBIEDERCODE'],\n",
    "        'ONDERWIJSAANBIEDER_NAAM': dataset['ONDERWIJSAANBIEDER_NAAM'],\n",
    "        'ONDERWIJSLOCATIE_CODE': dataset['LOCATIECODE'],\n",
    "        'ONDERWIJSLOCATIE_STRAATNAAM': dataset['STRAAT'],\n",
    "        'ONDERWIJSLOCATIE_HUISNUMMER': dataset['HUISNUMMER'],\n",
    "        'ONDERWIJSLOCATIE_HUISNUMMER_TOEVOEGING': dataset['HUISNR_TOEV'],\n",
    "        'ONDERWIJSLOCATIE_POSTCODE': dataset['POSTCODE'],\n",
    "        'ONDERWIJSLOCATIE_PLAATSNAAM': dataset['WOONPLAATS']\n",
    "    })\n",
    "    return new_df"
   ]
  },
  {
   "cell_type": "code",
   "execution_count": 165,
   "id": "98e3360f-49b1-469c-859a-c77ab40350a6",
   "metadata": {},
   "outputs": [],
   "source": [
    "# Create synthetic NSRP_v dataset by using create_new_dataframe function on tbe synthetic_a05_11_22 dataset\n",
    "synthetic_nsrp_v = create_new_dataframe(synthetic_a05_11_22)\n",
    "\n",
    "# Create synthetic NenR_v dataset by sampling 1100 rows from synthetic_nsrp_v\n",
    "synthetic_nenr_v = synthetic_nsrp_v.sample(n=1100)\n",
    "\n",
    "# Create the definitive NSRP and NenR datasets by dropping 100 rows from the temporary ones \n",
    "rows_to_delete_nsrp = synthetic_nsrp_v.sample(n=100)\n",
    "synthetic_nsrp_d = synthetic_nsrp_v.drop(rows_to_delete_nsrp.index)\n",
    "\n",
    "rows_to_delete_nenr = synthetic_nenr_v.sample(n=100)\n",
    "synthetic_nenr_d = synthetic_nenr_v.drop(rows_to_delete_nenr.index)"
   ]
  },
  {
   "cell_type": "code",
   "execution_count": 168,
   "id": "4c305e5c-1e43-4509-9792-227e59e23b45",
   "metadata": {},
   "outputs": [],
   "source": [
    "# Insert EXAMEN and IND_BEKOSTIGING columns at the 20th and 21st position\n",
    "synthetic_nenr_v.insert(19, \"EXAMEN\", np.nan)\n",
    "synthetic_nenr_v.insert(20, \"IND_BEKOSTIGING\", np.nan)\n",
    "synthetic_nenr_d.insert(19, \"EXAMEN\", np.nan)\n",
    "synthetic_nenr_d.insert(20, \"IND_BEKOSTIGING\", np.nan)"
   ]
  },
  {
   "cell_type": "code",
   "execution_count": 169,
   "id": "b9167399-2022-42d2-9dc3-74d798a49ce5",
   "metadata": {},
   "outputs": [],
   "source": [
    "synthetic_nsrp_v.to_csv('data/output/NRSP2023VI27GZ.csv', sep=';', index=False) \n",
    "synthetic_nsrp_d.to_csv('data/output/NRSP2023DI27GZ.csv', sep=';', index=False) \n",
    "synthetic_nenr_v.to_csv('data/output/NenR2023VI27GZ.csv', sep=';', index=False) \n",
    "synthetic_nenr_d.to_csv('data/output/NenR2023DI27GZ.csv', sep=';', index=False) "
   ]
  },
  {
   "cell_type": "code",
   "execution_count": null,
   "id": "2e35d644-3570-43b8-b62c-3d4a0788ee0e",
   "metadata": {},
   "outputs": [],
   "source": []
  },
  {
   "cell_type": "code",
   "execution_count": null,
   "id": "711c99d1-8ba6-49cd-b3ac-caca986ebf13",
   "metadata": {},
   "outputs": [],
   "source": []
  }
 ],
 "metadata": {
  "kernelspec": {
   "display_name": "Python 3 (ipykernel)",
   "language": "python",
   "name": "python3"
  },
  "language_info": {
   "codemirror_mode": {
    "name": "ipython",
    "version": 3
   },
   "file_extension": ".py",
   "mimetype": "text/x-python",
   "name": "python",
   "nbconvert_exporter": "python",
   "pygments_lexer": "ipython3",
   "version": "3.12.3"
  }
 },
 "nbformat": 4,
 "nbformat_minor": 5
}
